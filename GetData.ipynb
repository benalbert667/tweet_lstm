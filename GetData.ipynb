{
 "cells": [
  {
   "cell_type": "code",
   "execution_count": 1,
   "metadata": {
    "collapsed": true,
    "pycharm": {
     "is_executing": false
    }
   },
   "outputs": [],
   "source": [
    "import requests\n",
    "from requests_oauthlib import OAuth1\n",
    "import re"
   ]
  },
  {
   "cell_type": "code",
   "execution_count": 25,
   "outputs": [],
   "source": [
    "# with open('app_info.txt', 'r') as f:\n",
    "#     app_info = f.readlines()\n",
    "#     auth = OAuth1(app_info[0].replace('\\n', ''), client_secret=app_info[1].replace('\\n', ''))\n",
    "# r = requests.get('https://api.twitter.com/1.1/statuses/user_timeline.json',\n",
    "#                  params={'screen_name': 'realDonaldTrump',\n",
    "#                          'count': '200',\n",
    "#                          'tweet_mode': 'extended',\n",
    "#                          'include_rts': 'false',\n",
    "#                          'max_id': '1175766536293736449'},\n",
    "#                  auth=auth)\n",
    "# response = r.json()"
   ],
   "metadata": {
    "collapsed": false,
    "pycharm": {
     "name": "#%%\n",
     "is_executing": false
    }
   }
  },
  {
   "cell_type": "code",
   "execution_count": 26,
   "outputs": [
    {
     "name": "stdout",
     "text": [
      "{'errors': [{'code': 34, 'message': 'Sorry, that page does not exist.'}]}\n"
     ],
     "output_type": "stream"
    }
   ],
   "source": [
    "# print(response)\n",
    "# tweets = []\n",
    "# for s in response:\n",
    "#     # print(s['text'])\n",
    "#     tweets.append(str(s['full_text']))"
   ],
   "metadata": {
    "collapsed": false,
    "pycharm": {
     "name": "#%%\n",
     "is_executing": false
    }
   }
  },
  {
   "cell_type": "code",
   "execution_count": 2,
   "outputs": [],
   "source": [
    "def pprint(t, width=50):\n",
    "    l = len(t)\n",
    "    for i in range(l//width + 1):\n",
    "        print(t[width*i:min(width*(i+1), l)])\n",
    "    print()\n",
    "\n",
    "def get_current():\n",
    "    with open('trump_tweets.txt', 'r') as f:\n",
    "        lines = f.readlines()\n",
    "        print(len(lines))\n",
    "        return set(lines)\n",
    "    \n",
    "# for tweet in tweets:\n",
    "#     pprint(tweet)"
   ],
   "metadata": {
    "collapsed": false,
    "pycharm": {
     "name": "#%%\n",
     "is_executing": false
    }
   }
  },
  {
   "cell_type": "code",
   "execution_count": 3,
   "outputs": [
    {
     "name": "stdout",
     "text": [
      "1972\n1971\n",
      "last index = 1121451990712762369\n1972\n"
     ],
     "output_type": "stream"
    }
   ],
   "source": [
    "with open('app_info.txt', 'r') as f:\n",
    "    app_info = [l.replace('\\n', '') for l in f.readlines()]\n",
    "    auth = OAuth1(app_info[0], client_secret=app_info[1])\n",
    "url = 'https://api.twitter.com/1.1/statuses/user_timeline.json'\n",
    "params = {'screen_name': 'realDonaldTrump',\n",
    "          'count': '200',\n",
    "          'tweet_mode': 'extended',\n",
    "          'include_rts': 'false',\n",
    "          'max_id': '1121451990712762369'}\n",
    "tweets = get_current()\n",
    "print(len(tweets))\n",
    "req = {}\n",
    "while True:\n",
    "    request = requests.get(url, params=params, auth=auth)\n",
    "    req = request.json()\n",
    "    if len(req) == 0 or 'errors' in req:\n",
    "        print('last index =', params['max_id'])\n",
    "        break\n",
    "    params['max_id'] = str(req[-1]['id'])\n",
    "    for r in req:\n",
    "        s = re.sub(r'https?:\\/\\/\\S+(\\s|$)', '', str(r['full_text'])).replace('\\n', ' ')\n",
    "        if not re.fullmatch(r'\\s*', s):\n",
    "            tweets.add(s)\n",
    "print(len(tweets))"
   ],
   "metadata": {
    "collapsed": false,
    "pycharm": {
     "name": "#%%\n",
     "is_executing": false
    }
   }
  },
  {
   "cell_type": "code",
   "execution_count": 12,
   "outputs": [
    {
     "name": "stdout",
     "text": [
      "writing 1972 lines\n"
     ],
     "output_type": "stream"
    }
   ],
   "source": [
    "print('writing {} lines'.format(len(tweets)))\n",
    "with open('trump_tweets.txt', 'w') as f:\n",
    "    for t in tweets:\n",
    "        if not t[-1] == '\\n':\n",
    "            t += '\\n'\n",
    "        f.write(t)"
   ],
   "metadata": {
    "collapsed": false,
    "pycharm": {
     "name": "#%%\n",
     "is_executing": false
    }
   }
  },
  {
   "cell_type": "code",
   "execution_count": 30,
   "outputs": [
    {
     "data": {
      "text/plain": "'getting my odeo folks on this deal'"
     },
     "metadata": {},
     "output_type": "execute_result",
     "execution_count": 30
    }
   ],
   "source": [
    "url = 'https://api.twitter.com/1.1/statuses/show.json'\n",
    "request = requests.get(url, params={'id': '30', 'tweet_mode': 'extended'}, auth=auth)\n",
    "request = request.json()\n",
    "request['full_text']"
   ],
   "metadata": {
    "collapsed": false,
    "pycharm": {
     "name": "#%%\n",
     "is_executing": false
    }
   }
  }
 ],
 "metadata": {
  "kernelspec": {
   "display_name": "Python 3",
   "language": "python",
   "name": "python3"
  },
  "language_info": {
   "codemirror_mode": {
    "name": "ipython",
    "version": 2
   },
   "file_extension": ".py",
   "mimetype": "text/x-python",
   "name": "python",
   "nbconvert_exporter": "python",
   "pygments_lexer": "ipython2",
   "version": "2.7.6"
  },
  "pycharm": {
   "stem_cell": {
    "cell_type": "raw",
    "source": [],
    "metadata": {
     "collapsed": false
    }
   }
  }
 },
 "nbformat": 4,
 "nbformat_minor": 0
}